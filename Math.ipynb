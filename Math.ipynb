{
 "cells": [
  {
   "cell_type": "code",
   "execution_count": 7,
   "metadata": {
    "collapsed": true
   },
   "outputs": [],
   "source": [
    "import math\n",
    "import capillary"
   ]
  },
  {
   "cell_type": "code",
   "execution_count": 2,
   "metadata": {
    "collapsed": true
   },
   "outputs": [
    {
     "name": "stdout",
     "output_type": "stream",
     "text": [
      "Syringe Area: 1.6691360308338914e-05 m2\n\nFlowrate: 6.666666666666667e-11m3/s\n\nSyringe Speed: 0.003994082293781674 mm/s\n\nTime Between Steps: 2503.7040462508367 ms\n"
     ]
    }
   ],
   "source": [
    "Dia = 4.61/1000\n",
    "Length = 5\n",
    "Area = math.pow(Dia/2,2)*math.pi\n",
    "\n",
    "print(\"Syringe Area: \"+str(Area) + \" m2\\n\")\n",
    "FlowRate_ulm = 4\n",
    "\n",
    "FlowRate_m3s = FlowRate_ulm*pow(10,-9)/60\n",
    "print(\"Flowrate: \"+str(FlowRate_m3s) + \"m3/s\\n\")\n",
    "\n",
    "SyringeSpeed = FlowRate_m3s/Area *1000\n",
    "print(\"Syringe Speed: \"+str(SyringeSpeed) + \" mm/s\\n\")\n",
    "\n",
    "stepSize = 0.01\n",
    "stepTime = stepSize/SyringeSpeed*1000\n",
    "print(\"Time Between Steps: \"+str(stepTime)+\" ms\")\n"
   ]
  },
  {
   "cell_type": "code",
   "execution_count": 3,
   "metadata": {
    "collapsed": true
   },
   "outputs": [],
   "source": [
    "line1 = \"G1 Y\"\n",
    "line2 = \"G4 P\"\n",
    "numSteps = math.trunc(Length/stepSize)\n",
    "f = open(\"gcode.txt\",\"w+\")\n",
    "for i in range(1, numSteps + 1):\n",
    "    f.write(line1+str(math.trunc(i)/math.trunc(1/stepSize))+\"\\n\")\n",
    "    f.write(line2+str(math.trunc(stepTime))+\"\\n\")\n",
    "f.close()"
   ]
  },
  {
   "cell_type": "code",
   "execution_count": 8,
   "metadata": {},
   "outputs": [
    {
     "ename": "NameError",
     "evalue": "name 'ulmToKgs' is not defined",
     "traceback": [
      "\u001b[0;31m---------------------------------------------------------------------------\u001b[0m",
      "\u001b[0;31mNameError\u001b[0m                                 Traceback (most recent call last)",
      "\u001b[0;32m<ipython-input-8-0fb32aadc7b5>\u001b[0m in \u001b[0;36m<module>\u001b[0;34m()\u001b[0m\n\u001b[0;32m----> 1\u001b[0;31m \u001b[0mcapillary\u001b[0m\u001b[0;34m.\u001b[0m\u001b[0mcapillary\u001b[0m\u001b[0;34m.\u001b[0m\u001b[0mExV\u001b[0m\u001b[0;34m(\u001b[0m\u001b[0;36m1\u001b[0m\u001b[0;34m,\u001b[0m\u001b[0;36m1\u001b[0m\u001b[0;34m,\u001b[0m\u001b[0;36m1\u001b[0m\u001b[0;34m)\u001b[0m\u001b[0;34m\u001b[0m\u001b[0m\n\u001b[0m",
      "\u001b[0;32m/home/viki/PycharmProjects/HelmholtzCage/capillary.py\u001b[0m in \u001b[0;36mExV\u001b[0;34m(self, FlowRate, Power)\u001b[0m\n\u001b[1;32m      7\u001b[0m \u001b[0;34m\u001b[0m\u001b[0m\n\u001b[1;32m      8\u001b[0m     \u001b[0;32mdef\u001b[0m \u001b[0mExV\u001b[0m\u001b[0;34m(\u001b[0m\u001b[0mself\u001b[0m\u001b[0;34m,\u001b[0m \u001b[0mFlowRate\u001b[0m\u001b[0;34m,\u001b[0m\u001b[0mPower\u001b[0m\u001b[0;34m)\u001b[0m\u001b[0;34m:\u001b[0m\u001b[0;34m\u001b[0m\u001b[0m\n\u001b[0;32m----> 9\u001b[0;31m         \u001b[0mMassFlowRate\u001b[0m \u001b[0;34m=\u001b[0m \u001b[0mFlowRate\u001b[0m \u001b[0;34m*\u001b[0m \u001b[0mulmToKgs\u001b[0m\u001b[0;34m\u001b[0m\u001b[0m\n\u001b[0m\u001b[1;32m     10\u001b[0m         \u001b[0;32mreturn\u001b[0m\u001b[0;34m(\u001b[0m\u001b[0mmath\u001b[0m\u001b[0;34m.\u001b[0m\u001b[0msqrt\u001b[0m\u001b[0;34m(\u001b[0m\u001b[0;36m2\u001b[0m\u001b[0;34m*\u001b[0m\u001b[0mPower\u001b[0m\u001b[0;34m/\u001b[0m\u001b[0mMassFlowRate\u001b[0m\u001b[0;34m)\u001b[0m\u001b[0;34m)\u001b[0m\u001b[0;34m\u001b[0m\u001b[0m\n\u001b[1;32m     11\u001b[0m \u001b[0;34m\u001b[0m\u001b[0m\n",
      "\u001b[0;31mNameError\u001b[0m: name 'ulmToKgs' is not defined"
     ],
     "output_type": "error"
    }
   ],
   "source": [
    ""
   ]
  },
  {
   "cell_type": "code",
   "execution_count": null,
   "metadata": {},
   "outputs": [],
   "source": []
  }
 ],
 "metadata": {
  "kernelspec": {
   "display_name": "Python 2",
   "language": "python",
   "name": "python2"
  },
  "language_info": {
   "codemirror_mode": {
    "name": "ipython",
    "version": 2
   },
   "file_extension": ".py",
   "mimetype": "text/x-python",
   "name": "python",
   "nbconvert_exporter": "python",
   "pygments_lexer": "ipython2",
   "version": "2.7.6"
  }
 },
 "nbformat": 4,
 "nbformat_minor": 0
}
