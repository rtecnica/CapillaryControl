{
 "cells": [
  {
   "cell_type": "code",
   "execution_count": 1,
   "metadata": {
    "collapsed": true
   },
   "outputs": [],
   "source": [
    "import math\n",
    "import capillary"
   ]
  },
  {
   "cell_type": "code",
   "execution_count": 2,
   "metadata": {
    "collapsed": true
   },
   "outputs": [],
   "source": [
    "Dia = 4.61/1000\n",
    "Length = 5\n",
    "Area = math.pow(Dia/2,2)*math.pi\n",
    "\n",
    "print(\"Syringe Area: \"+str(Area) + \" m2\\n\")\n",
    "FlowRate_ulm = 4\n",
    "\n",
    "FlowRate_m3s = FlowRate_ulm*pow(10,-9)/60\n",
    "print(\"Flowrate: \"+str(FlowRate_m3s) + \"m3/s\\n\")\n",
    "\n",
    "SyringeSpeed = FlowRate_m3s/Area *1000\n",
    "print(\"Syringe Speed: \"+str(SyringeSpeed) + \" mm/s\\n\")\n",
    "\n",
    "stepSize = 0.01\n",
    "stepTime = stepSize/SyringeSpeed*1000\n",
    "print(\"Time Between Steps: \"+str(stepTime)+\" ms\")\n"
   ]
  },
  {
   "cell_type": "code",
   "execution_count": 3,
   "metadata": {
    "collapsed": true
   },
   "outputs": [],
   "source": [
    "line1 = \"G1 Y\"\n",
    "line2 = \"G4 P\"\n",
    "numSteps = math.trunc(Length/stepSize)\n",
    "f = open(\"gcode.txt\",\"w+\")\n",
    "for i in range(1, numSteps + 1):\n",
    "    f.write(line1+str(math.trunc(i)/math.trunc(1/stepSize))+\"\\n\")\n",
    "    f.write(line2+str(math.trunc(stepTime))+\"\\n\")\n",
    "f.close()"
   ]
  },
  {
   "cell_type": "code",
   "execution_count": 4,
   "metadata": {
    "collapsed": false
   },
   "outputs": [
    {
     "data": {
      "text/plain": [
       "0.00019235384061671345"
      ]
     },
     "execution_count": 4,
     "metadata": {},
     "output_type": "execute_result"
    }
   ],
   "source": [
    ""
   ]
  },
  {
   "cell_type": "code",
   "execution_count": null,
   "metadata": {},
   "outputs": [],
   "source": []
  }
 ],
 "metadata": {
  "kernelspec": {
   "display_name": "Python 2",
   "language": "python",
   "name": "python2"
  },
  "language_info": {
   "codemirror_mode": {
    "name": "ipython",
    "version": 2
   },
   "file_extension": ".py",
   "mimetype": "text/x-python",
   "name": "python",
   "nbconvert_exporter": "python",
   "pygments_lexer": "ipython2",
   "version": "2.7.6"
  }
 },
 "nbformat": 4,
 "nbformat_minor": 0
}
