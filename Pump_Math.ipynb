{
 "cells": [
  {
   "cell_type": "code",
   "execution_count": 1,
   "metadata": {
    "collapsed": true
   },
   "outputs": [],
   "source": [
    "import math\n",
    "import PropMath\n",
    "import propellant"
   ]
  },
  {
   "cell_type": "code",
   "execution_count": 7,
   "metadata": {
    "collapsed": true
   },
   "outputs": [
    {
     "name": "stdout",
     "output_type": "stream",
     "text": [
      "Syringe Area: 1.6691360308338914e-05 m2\n\nFlowrate: 6.666666666666667e-11m3/s\n\nSyringe Speed: 0.003994082293781674 mm/s\n\nTime Between Steps: 2503.7040462508367 ms\n"
     ]
    }
   ],
   "source": [
    "rho = 1110  #kg / m3 EthGlyc density\n",
    "sigma = 1.07 * pow(10,-6) #mhos/m EthGlyc Conductivity\n",
    "sigma = 42 * pow(10,-3)\n",
    "dielectricK = 37.7 #EthGlyc Dielectric constant\n",
    "surfaceTension = 0.048 #N/m EthGlyc Surface Tension\n",
    "\n",
    "EthGlycol = propellant.propellant(rho,sigma,dielectricK,surfaceTension)\n",
    "\n",
    "Dia = 4.61/1000\n",
    "Length = 5\n",
    "Area = math.pow(Dia/2,2)*math.pi\n",
    "\n",
    "print(\"Syringe Area: \"+str(Area) + \" m2\\n\")\n",
    "FlowRate_ulm = 4\n",
    "\n",
    "FlowRate_m3s = FlowRate_ulm*pow(10,-9)/60\n",
    "print(\"Flowrate: \"+str(FlowRate_m3s) + \"m3/s\\n\")\n",
    "\n",
    "SyringeSpeed = FlowRate_m3s/Area *1000\n",
    "print(\"Syringe Speed: \"+str(SyringeSpeed) + \" mm/s\\n\")\n",
    "\n",
    "stepSize = 0.01\n",
    "stepTime = stepSize/SyringeSpeed*1000\n",
    "print(\"Time Between Steps: \"+str(stepTime)+\" ms\")\n"
   ]
  },
  {
   "cell_type": "code",
   "execution_count": 3,
   "metadata": {
    "collapsed": true
   },
   "outputs": [],
   "source": [
    "line1 = \"G1 Y\"\n",
    "line2 = \"G4 P\"\n",
    "numSteps = math.trunc(Length/stepSize)\n",
    "f = open(\"gcode.txt\",\"w+\")\n",
    "for i in range(1, numSteps + 1):\n",
    "    f.write(line1+str(math.trunc(i)/math.trunc(1/stepSize))+\"\\n\")\n",
    "    f.write(line2+str(math.trunc(stepTime))+\"\\n\")\n",
    "f.close()"
   ]
  },
  {
   "cell_type": "code",
   "execution_count": 8,
   "metadata": {
    "collapsed": false
   },
   "outputs": [
    {
     "name": "stdout",
     "output_type": "stream",
     "text": [
      "Predicted Values:\n\nStarting Voltage = 3423.5602209314115 V\nJet Current = 1015.0276681493727 nA\nPower = 3.475008347820962 mW\n\nThrust = 22.67821058808438 uN\nIsp = 31.23978646731738 s\n"
     ]
    }
   ],
   "source": [
    "FlowRate_kgs = FlowRate_ulm * PropMath.ulmTom3s * EthGlycol.rho\n",
    "\n",
    "pVoltage = EthGlycol.vStart(0.5*pow(10, -3), 1*pow(10, -3))\n",
    "pCurrent = EthGlycol.jetCurrent(FlowRate_m3s)\n",
    "pPower = pVoltage *pCurrent\n",
    "\n",
    "print(\"Predicted Values:\\n\")\n",
    "\n",
    "print(\"Starting Voltage = \" + str(pVoltage) + \" V\")\n",
    "print(\"Jet Current = \" + str(pCurrent * pow(10,9))+ \" nA\")\n",
    "print(\"Power = \" + str(pPower*pow(10,3)) + \" mW\\n\")\n",
    "\n",
    "print(\"Thrust = \" + str(PropMath.Thrust(FlowRate_kgs,pPower)*pow(10,6)) + \" uN\")\n",
    "print(\"Isp = \" + str(PropMath.Isp(FlowRate_kgs,pPower)) + \" s\")\n"
   ]
  },
  {
   "cell_type": "code",
   "execution_count": null,
   "metadata": {},
   "outputs": [],
   "source": []
  }
 ],
 "metadata": {
  "kernelspec": {
   "display_name": "Python 2",
   "language": "python",
   "name": "python2"
  },
  "language_info": {
   "codemirror_mode": {
    "name": "ipython",
    "version": 2
   },
   "file_extension": ".py",
   "mimetype": "text/x-python",
   "name": "python",
   "nbconvert_exporter": "python",
   "pygments_lexer": "ipython2",
   "version": "2.7.6"
  }
 },
 "nbformat": 4,
 "nbformat_minor": 0
}
